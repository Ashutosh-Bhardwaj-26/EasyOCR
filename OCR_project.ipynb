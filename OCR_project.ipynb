{
  "nbformat": 4,
  "nbformat_minor": 0,
  "metadata": {
    "colab": {
      "name": "OCR_project.ipynb",
      "provenance": [],
      "include_colab_link": true
    },
    "kernelspec": {
      "name": "python3",
      "display_name": "Python 3"
    },
    "language_info": {
      "name": "python"
    },
    "accelerator": "GPU"
  },
  "cells": [
    {
      "cell_type": "markdown",
      "metadata": {
        "id": "view-in-github",
        "colab_type": "text"
      },
      "source": [
        "<a href=\"https://colab.research.google.com/github/Ashutosh-Bhardwaj-26/EasyOCR/blob/main/OCR_project.ipynb\" target=\"_parent\"><img src=\"https://colab.research.google.com/assets/colab-badge.svg\" alt=\"Open In Colab\"/></a>"
      ]
    },
    {
      "cell_type": "code",
      "execution_count": null,
      "metadata": {
        "id": "okahMWx1Rczs"
      },
      "outputs": [],
      "source": [
        "!pip install easyocr\n",
        "!pip install imutils\n",
        "#to change python headless version\n",
        "!pip install opencv-python-headless==4.5.2.52\n"
      ]
    },
    {
      "cell_type": "code",
      "source": [
        "import cv2\n",
        "from matplotlib import pyplot as plt\n",
        "import numpy as np\n",
        "import imutils\n",
        "import easyocr\n",
        "#to create file\n",
        "with open(\"/content/Challan.txt\", \"w\") as file1:\n",
        "  file1.close()"
      ],
      "metadata": {
        "id": "eVmnVG5nAz36"
      },
      "execution_count": null,
      "outputs": []
    },
    {
      "cell_type": "code",
      "source": [
        "def imagenumber(path):\n",
        " img = cv2.imread(path)\n",
        " gray = cv2.cvtColor(img, cv2.COLOR_BGR2GRAY)\n",
        " bfilter = cv2.bilateralFilter(gray, 11, 17, 17) #Noise reduction\n",
        " edged = cv2.Canny(bfilter, 30, 200) #Edge detection\n",
        " keypoints = cv2.findContours(edged.copy(), cv2.RETR_TREE, cv2.CHAIN_APPROX_SIMPLE)\n",
        " contours = imutils.grab_contours(keypoints)\n",
        " contours = sorted(contours, key=cv2.contourArea, reverse=True)[:10]\n",
        " location = None\n",
        " for contour in contours:\n",
        "    approx = cv2.approxPolyDP(contour, 10, True)\n",
        "    if len(approx) == 4:\n",
        "        location = approx\n",
        "        break\n",
        " mask = np.zeros(gray.shape, np.uint8)\n",
        " new_image = cv2.drawContours(mask, [location], 0,255, -1)\n",
        " new_image = cv2.bitwise_and(img, img, mask=mask)\n",
        " (x,y) = np.where(mask==255)\n",
        " (x1, y1) = (np.min(x), np.min(y))\n",
        " (x2, y2) = (np.max(x), np.max(y))\n",
        " cropped_image = gray[x1:x2+1, y1:y2+1]\n",
        " reader = easyocr.Reader(['en'])\n",
        " result = reader.readtext(cropped_image)\n",
        " text = result[0][-2]\n",
        " #font = cv2.FONT_HERSHEY_SIMPLEX\n",
        " #res = cv2.putText(img, text=text, org=(approx[0][0][0], approx[1][0][1]+60), fontFace=font, fontScale=1, color=(0,255,0), thickness=2, lineType=cv2.LINE_AA)\n",
        " #res = cv2.rectangle(img, tuple(approx[0][0]), tuple(approx[2][0]), (0,255,0),3)\n",
        " #plt.imshow(cv2.cvtColor(res, cv2.COLOR_BGR2RGB))\n",
        " return text"
      ],
      "metadata": {
        "id": "qNQEPOZqdqM2"
      },
      "execution_count": null,
      "outputs": []
    },
    {
      "cell_type": "markdown",
      "source": [
        "#!!File handling starts here \n",
        "We search if file contains the number.If yes, delete it or write it.\n",
        "After 6 months total number of numbers left in the file are the one which voilated the rules.!! "
      ],
      "metadata": {
        "id": "OpSE24NA0VlP"
      }
    },
    {
      "cell_type": "code",
      "source": [
        "\n",
        "# import required module\n",
        "from pathlib import Path\n",
        "from datetime import datetime\n",
        "# get the path/directory\n",
        "folder_dir = '/content/images'\n",
        "with open(\"/content/Challan.txt\", \"r+\") as file1:\n",
        "  # iterate over files in\n",
        "  # that directory\n",
        "  images = Path(folder_dir).glob('*.jpg')\n",
        "  for image in images:\n",
        "      text = imagenumber(str(image))\n",
        "      print(text)\n",
        "      # setting flag and index to 0\n",
        "      flag = 0\n",
        "      index = 0\n",
        "      # Loop through the file line by line\n",
        "      for line in file1:  \n",
        "          index = index + 1      \n",
        "          # checking string is present in line or not\n",
        "          if text in line:       \n",
        "            flag = 1\n",
        "            break          \n",
        "      # checking condition for string found or not\n",
        "      if flag == 0: \n",
        "          date = datetime.now().strftime(\"%Y_%m_%d-%I:%M:%S_%p\")\n",
        "          file1.write(text + \"\\n\\t\\t\\t\\t\\t\\tDate:- \" + date + \"\\n\")\n",
        "      else: \n",
        "        print('Number', text, \"Found\",\"------deleting\")\n",
        "        content = text\n",
        "        lines = file1.readlines()\n",
        "        for line in lines:\n",
        "        # readlines() includes a newline character\n",
        "          if line.strip(\"\\n\") != content:\n",
        "            file1.write(line)\n",
        "\n",
        "\n",
        "        \n",
        "\n",
        "      \n",
        "          "
      ],
      "metadata": {
        "id": "88pQg_Kgjm3n",
        "colab": {
          "base_uri": "https://localhost:8080/"
        },
        "outputId": "05a62ca4-8240-40bf-e735-3eab5152a6b8"
      },
      "execution_count": null,
      "outputs": [
        {
          "output_type": "stream",
          "name": "stdout",
          "text": [
            "ICOVIDT9\n",
            "Number ICOVIDT9 Found ------deleting\n",
            "H982 FKL\n",
            "HR.26 BR.9044\n",
            "KA 05 NB 1786\n",
            "EBJY. 982]\n"
          ]
        }
      ]
    }
  ]
}